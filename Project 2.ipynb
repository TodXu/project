{
 "cells": [
  {
   "cell_type": "markdown",
   "metadata": {
    "scrolled": false
   },
   "source": [
    "# QTM 385 Project 2\n",
    "Wenkai Xu\n"
   ]
  },
  {
   "cell_type": "markdown",
   "metadata": {},
   "source": [
    "# Which one is the most imporntant factor in a basketball game?\n",
    "--------2 points, 3 points or rebounds?"
   ]
  },
  {
   "cell_type": "markdown",
   "metadata": {},
   "source": [
    "# Introduction:\n",
    "Why do I choose this question as my topic?\n",
    "One day when I was playing basketball with my friends, we had come up with one question: what factor contributes to a victory in a professional basketball game. I am a shooter so I am in favor of 3 points. I think 3 points are efficient in accumulating points and usually Clutch shots are 3-point-shot. However, one of my friend (by the way he plays as a Forward) argued that 2 points are the key element in winning a game and 3-point-shot only consist a little proportion of field goals. Of course there're other factors like turnovers, assists, blocks or etc. that might influence a game, however, I personally think field goals(2 and 3 points), plus rebounds might have the huge impact. Thus, I will choose 2-point-shot, 3-point-shot and rebound as my key independent variables. In order to draw a conclusion quantitatively, I decide to use python to explore how 2 points, 3 points and rebounds are related to a basketball game and how they affect one team's win rate. In this project, I will use some Dataframe logical operations to abridge the original dataset and show some interesting facts.Also, I will do a single regression of 3-points/2 points accuracy on win rate based on 1998-2008 NBA all team data. At last, I will use matplotlib to visualize the regression and draw some conclusions. "
   ]
  },
  {
   "cell_type": "code",
   "execution_count": 1,
   "metadata": {},
   "outputs": [],
   "source": [
    "import pandas as pd\n",
    "import rpy2\n",
    "\n",
    "\n",
    "import matplotlib.pyplot as plt \n",
    "import numpy as np\n",
    "from sklearn import datasets, linear_model"
   ]
  },
  {
   "cell_type": "code",
   "execution_count": 2,
   "metadata": {},
   "outputs": [
    {
     "data": {
      "text/plain": [
       "(1307, 60)"
      ]
     },
     "execution_count": 2,
     "metadata": {},
     "output_type": "execute_result"
    }
   ],
   "source": [
    "df=pd.read_csv('https://github.com/TodXu/project/blob/master/basketball_teams.csv?raw=TRUE')\n",
    "df.shape"
   ]
  },
  {
   "cell_type": "code",
   "execution_count": 3,
   "metadata": {
    "scrolled": true
   },
   "outputs": [
    {
     "data": {
      "text/plain": [
       "Index(['year', 'lgID', 'tmID', 'franchID', 'confID', 'divID', 'rank',\n",
       "       'confRank', 'playoff', 'name', 'o_fgm', 'o_fga', 'o_ftm', 'o_fta',\n",
       "       'o_3pm', 'o_3pa', 'o_oreb', 'o_dreb', 'o_reb', 'o_asts', 'o_pf',\n",
       "       'o_stl', 'o_to', 'o_blk', 'o_pts', 'd_fgm', 'd_fga', 'd_ftm', 'd_fta',\n",
       "       'd_3pm', 'd_3pa', 'd_oreb', 'd_dreb', 'd_reb', 'd_asts', 'd_pf',\n",
       "       'd_stl', 'd_to', 'd_blk', 'd_pts', 'o_tmRebound', 'd_tmRebound',\n",
       "       'homeWon', 'homeLost', 'awayWon', 'awayLost', 'neutWon', 'neutLoss',\n",
       "       'confWon', 'confLoss', 'divWon', 'divLoss', 'pace', 'won', 'lost',\n",
       "       'games', 'min', 'arena', 'attendance', 'bbtmID'],\n",
       "      dtype='object')"
      ]
     },
     "execution_count": 3,
     "metadata": {},
     "output_type": "execute_result"
    }
   ],
   "source": [
    "df.columns"
   ]
  },
  {
   "cell_type": "markdown",
   "metadata": {},
   "source": [
    "# Data Collection & Data Frame\n",
    "I have downloaded the dataset from Kaggle.com. It is a huge dataset which contain all the infomation of NBA teams from year 1967 to 2008. From the method df.shape above, we can see that the whole dataset has 1307 rows and 60 columns.I am only interested in part of the data of the big dataset. I only want to observe the column of 'o_fgm'(field goal made), 'o_fga'(field_goal_attemped),'o_3pm'(3 point made), 'o_3pa'(3 point attemped), 'won','loss' and etc. from year 1998 to 2008. Anyway, here are some of my dataFrame operations:"
   ]
  },
  {
   "cell_type": "markdown",
   "metadata": {},
   "source": [
    "# Data Frame Operation"
   ]
  },
  {
   "cell_type": "code",
   "execution_count": 4,
   "metadata": {},
   "outputs": [
    {
     "data": {
      "text/plain": [
       "year\n",
       "1946    0.0\n",
       "1947    0.0\n",
       "1948    0.0\n",
       "1949    0.0\n",
       "1950    0.0\n",
       "1951    0.0\n",
       "1952    0.0\n",
       "1953    0.0\n",
       "1954    0.0\n",
       "1955    0.0\n",
       "1956    0.0\n",
       "1957    0.0\n",
       "1958    0.0\n",
       "1959    0.0\n",
       "1960    0.0\n",
       "1961    0.0\n",
       "1962    0.0\n",
       "1963    0.0\n",
       "1964    0.0\n",
       "1965    0.0\n",
       "Name: o_3pm, dtype: float64"
      ]
     },
     "execution_count": 4,
     "metadata": {},
     "output_type": "execute_result"
    }
   ],
   "source": [
    "df.groupby('year').o_3pm.mean().head(20)"
   ]
  },
  {
   "cell_type": "code",
   "execution_count": 5,
   "metadata": {
    "collapsed": true
   },
   "outputs": [],
   "source": [
    "df1=df[(df.year>=1998) & (df.year<=2008)]"
   ]
  },
  {
   "cell_type": "markdown",
   "metadata": {},
   "source": [
    "After checking the whole dataset, I have found that in early days (from 1946 to 1979), the 3-points of each team is 0! This means NBA began to have 3-points after 1979. And in early 80s, 3 points made is much lower than recent years. In order to keep the data up-to-date, I decide to choose the recent 10 years. And I have modified df into df1 to choose year 1998 to 2008 as my observation."
   ]
  },
  {
   "cell_type": "code",
   "execution_count": 6,
   "metadata": {
    "scrolled": true
   },
   "outputs": [
    {
     "name": "stderr",
     "output_type": "stream",
     "text": [
      "D:\\Ana\\lib\\site-packages\\ipykernel_launcher.py:2: SettingWithCopyWarning: \n",
      "A value is trying to be set on a copy of a slice from a DataFrame.\n",
      "Try using .loc[row_indexer,col_indexer] = value instead\n",
      "\n",
      "See the caveats in the documentation: http://pandas.pydata.org/pandas-docs/stable/indexing.html#indexing-view-versus-copy\n",
      "  \n",
      "D:\\Ana\\lib\\site-packages\\ipykernel_launcher.py:3: SettingWithCopyWarning: \n",
      "A value is trying to be set on a copy of a slice from a DataFrame.\n",
      "Try using .loc[row_indexer,col_indexer] = value instead\n",
      "\n",
      "See the caveats in the documentation: http://pandas.pydata.org/pandas-docs/stable/indexing.html#indexing-view-versus-copy\n",
      "  This is separate from the ipykernel package so we can avoid doing imports until\n",
      "D:\\Ana\\lib\\site-packages\\ipykernel_launcher.py:4: SettingWithCopyWarning: \n",
      "A value is trying to be set on a copy of a slice from a DataFrame.\n",
      "Try using .loc[row_indexer,col_indexer] = value instead\n",
      "\n",
      "See the caveats in the documentation: http://pandas.pydata.org/pandas-docs/stable/indexing.html#indexing-view-versus-copy\n",
      "  after removing the cwd from sys.path.\n"
     ]
    },
    {
     "data": {
      "text/html": [
       "<div>\n",
       "<style>\n",
       "    .dataframe thead tr:only-child th {\n",
       "        text-align: right;\n",
       "    }\n",
       "\n",
       "    .dataframe thead th {\n",
       "        text-align: left;\n",
       "    }\n",
       "\n",
       "    .dataframe tbody tr th {\n",
       "        vertical-align: top;\n",
       "    }\n",
       "</style>\n",
       "<table border=\"1\" class=\"dataframe\">\n",
       "  <thead>\n",
       "    <tr style=\"text-align: right;\">\n",
       "      <th></th>\n",
       "      <th>year</th>\n",
       "      <th>o_oreb</th>\n",
       "      <th>winrate</th>\n",
       "      <th>Acc3p</th>\n",
       "      <th>Acc2p</th>\n",
       "    </tr>\n",
       "  </thead>\n",
       "  <tbody>\n",
       "    <tr>\n",
       "      <th>count</th>\n",
       "      <td>324.000000</td>\n",
       "      <td>324.000000</td>\n",
       "      <td>324.000000</td>\n",
       "      <td>324.000000</td>\n",
       "      <td>324.000000</td>\n",
       "    </tr>\n",
       "    <tr>\n",
       "      <th>mean</th>\n",
       "      <td>2003.046296</td>\n",
       "      <td>931.780864</td>\n",
       "      <td>0.500000</td>\n",
       "      <td>0.352582</td>\n",
       "      <td>0.470982</td>\n",
       "    </tr>\n",
       "    <tr>\n",
       "      <th>std</th>\n",
       "      <td>3.169273</td>\n",
       "      <td>138.149215</td>\n",
       "      <td>0.149120</td>\n",
       "      <td>0.022173</td>\n",
       "      <td>0.019118</td>\n",
       "    </tr>\n",
       "    <tr>\n",
       "      <th>min</th>\n",
       "      <td>1998.000000</td>\n",
       "      <td>472.000000</td>\n",
       "      <td>0.158537</td>\n",
       "      <td>0.264151</td>\n",
       "      <td>0.421143</td>\n",
       "    </tr>\n",
       "    <tr>\n",
       "      <th>25%</th>\n",
       "      <td>2000.000000</td>\n",
       "      <td>867.500000</td>\n",
       "      <td>0.402439</td>\n",
       "      <td>0.339475</td>\n",
       "      <td>0.458929</td>\n",
       "    </tr>\n",
       "    <tr>\n",
       "      <th>50%</th>\n",
       "      <td>2003.000000</td>\n",
       "      <td>943.000000</td>\n",
       "      <td>0.512195</td>\n",
       "      <td>0.352753</td>\n",
       "      <td>0.470910</td>\n",
       "    </tr>\n",
       "    <tr>\n",
       "      <th>75%</th>\n",
       "      <td>2006.000000</td>\n",
       "      <td>1023.250000</td>\n",
       "      <td>0.609756</td>\n",
       "      <td>0.367285</td>\n",
       "      <td>0.481511</td>\n",
       "    </tr>\n",
       "    <tr>\n",
       "      <th>max</th>\n",
       "      <td>2008.000000</td>\n",
       "      <td>1345.000000</td>\n",
       "      <td>0.817073</td>\n",
       "      <td>0.406764</td>\n",
       "      <td>0.537664</td>\n",
       "    </tr>\n",
       "  </tbody>\n",
       "</table>\n",
       "</div>"
      ],
      "text/plain": [
       "              year       o_oreb     winrate       Acc3p       Acc2p\n",
       "count   324.000000   324.000000  324.000000  324.000000  324.000000\n",
       "mean   2003.046296   931.780864    0.500000    0.352582    0.470982\n",
       "std       3.169273   138.149215    0.149120    0.022173    0.019118\n",
       "min    1998.000000   472.000000    0.158537    0.264151    0.421143\n",
       "25%    2000.000000   867.500000    0.402439    0.339475    0.458929\n",
       "50%    2003.000000   943.000000    0.512195    0.352753    0.470910\n",
       "75%    2006.000000  1023.250000    0.609756    0.367285    0.481511\n",
       "max    2008.000000  1345.000000    0.817073    0.406764    0.537664"
      ]
     },
     "execution_count": 6,
     "metadata": {},
     "output_type": "execute_result"
    }
   ],
   "source": [
    "df2=df1.iloc[:,[0,2,8,9,16]]\n",
    "df2['winrate']=df1['won']/df1['games']\n",
    "df2['Acc3p']=df1['o_3pm']/df1['o_3pa']\n",
    "df2['Acc2p']=(df1['o_fgm']-df1['o_3pm'])/(df1['o_fga']-df1['o_3pa'])\n",
    "df2.describe()"
   ]
  },
  {
   "cell_type": "markdown",
   "metadata": {},
   "source": [
    "I have abriged df1 into df2 by deleting some of unnessassary columns and adding winrate, Acc3p(3 point Accuracy) and Acc2p(2 point Accuracy) into new columns. We can see that the average of 3 point accuracy of all teams in 10 years is 0.352 and average 2 point accuracy is 0.471. "
   ]
  },
  {
   "cell_type": "markdown",
   "metadata": {},
   "source": [
    "# Visualization\n",
    "This pie chart shows the percentage of 2-point-shots on the total field goals."
   ]
  },
  {
   "cell_type": "code",
   "execution_count": 7,
   "metadata": {},
   "outputs": [
    {
     "data": {
      "image/png": "[encoded data removed]",
      "text/plain": [
       "<matplotlib.figure.Figure at 0xdddd1a208>"
      ]
     },
     "metadata": {},
     "output_type": "display_data"
    }
   ],
   "source": [
    "labels=['2-point-shots','3-point-shots']\n",
    "sizes=[df1.o_fga.mean()-df1.o_3pa.mean(),df1.o_3pa.mean()]\n",
    "colors = ['gold', 'yellowgreen']\n",
    "explode = (0.2, 0)\n",
    "plt.pie(sizes, explode=explode, labels=labels, colors=colors,\n",
    "        autopct='%1.1f%%', shadow=True, startangle=140)\n",
    " \n",
    "plt.axis('equal')\n",
    "plt.show()"
   ]
  },
  {
   "cell_type": "markdown",
   "metadata": {},
   "source": [
    "From the graph, we can see that players have made much more 2 points attemps than 3 points( (o_fga-o_3pa > o_3pa ), 80% of the field goals are made up of 2-point shot attempts. Besides, 2 points shots have more accuracy than 3 points( 0.471>0.352 ). From these data, I can conclude that 2 point is a more common and easy way to earn points in a match compared with 3 point shot."
   ]
  },
  {
   "cell_type": "markdown",
   "metadata": {},
   "source": [
    "# Interpretations"
   ]
  },
  {
   "cell_type": "code",
   "execution_count": 8,
   "metadata": {},
   "outputs": [
    {
     "data": {
      "text/html": [
       "<div>\n",
       "<style>\n",
       "    .dataframe thead tr:only-child th {\n",
       "        text-align: right;\n",
       "    }\n",
       "\n",
       "    .dataframe thead th {\n",
       "        text-align: left;\n",
       "    }\n",
       "\n",
       "    .dataframe tbody tr th {\n",
       "        vertical-align: top;\n",
       "    }\n",
       "</style>\n",
       "<table border=\"1\" class=\"dataframe\">\n",
       "  <thead>\n",
       "    <tr style=\"text-align: right;\">\n",
       "      <th></th>\n",
       "      <th>year</th>\n",
       "      <th>tmID</th>\n",
       "      <th>playoff</th>\n",
       "      <th>name</th>\n",
       "      <th>o_oreb</th>\n",
       "      <th>winrate</th>\n",
       "      <th>Acc3p</th>\n",
       "      <th>Acc2p</th>\n",
       "    </tr>\n",
       "  </thead>\n",
       "  <tbody>\n",
       "    <tr>\n",
       "      <th>1006</th>\n",
       "      <td>1998</td>\n",
       "      <td>SAS</td>\n",
       "      <td>NC</td>\n",
       "      <td>San Antonio Spurs</td>\n",
       "      <td>614</td>\n",
       "      <td>0.740000</td>\n",
       "      <td>0.330134</td>\n",
       "      <td>0.476451</td>\n",
       "    </tr>\n",
       "    <tr>\n",
       "      <th>1024</th>\n",
       "      <td>1999</td>\n",
       "      <td>LAL</td>\n",
       "      <td>NC</td>\n",
       "      <td>Los Angeles Lakers</td>\n",
       "      <td>1117</td>\n",
       "      <td>0.817073</td>\n",
       "      <td>0.328558</td>\n",
       "      <td>0.482467</td>\n",
       "    </tr>\n",
       "    <tr>\n",
       "      <th>1053</th>\n",
       "      <td>2000</td>\n",
       "      <td>LAL</td>\n",
       "      <td>NC</td>\n",
       "      <td>Los Angeles Lakers</td>\n",
       "      <td>1085</td>\n",
       "      <td>0.682927</td>\n",
       "      <td>0.344314</td>\n",
       "      <td>0.493530</td>\n",
       "    </tr>\n",
       "    <tr>\n",
       "      <th>1082</th>\n",
       "      <td>2001</td>\n",
       "      <td>LAL</td>\n",
       "      <td>NC</td>\n",
       "      <td>Los Angeles Lakers</td>\n",
       "      <td>1022</td>\n",
       "      <td>0.707317</td>\n",
       "      <td>0.354413</td>\n",
       "      <td>0.488798</td>\n",
       "    </tr>\n",
       "    <tr>\n",
       "      <th>1123</th>\n",
       "      <td>2002</td>\n",
       "      <td>SAS</td>\n",
       "      <td>NC</td>\n",
       "      <td>San Antonio Spurs</td>\n",
       "      <td>939</td>\n",
       "      <td>0.731707</td>\n",
       "      <td>0.353543</td>\n",
       "      <td>0.489159</td>\n",
       "    </tr>\n",
       "    <tr>\n",
       "      <th>1134</th>\n",
       "      <td>2003</td>\n",
       "      <td>DET</td>\n",
       "      <td>NC</td>\n",
       "      <td>Detroit Pistons</td>\n",
       "      <td>1014</td>\n",
       "      <td>0.658537</td>\n",
       "      <td>0.344008</td>\n",
       "      <td>0.451553</td>\n",
       "    </tr>\n",
       "    <tr>\n",
       "      <th>1182</th>\n",
       "      <td>2004</td>\n",
       "      <td>SAS</td>\n",
       "      <td>NC</td>\n",
       "      <td>San Antonio Spurs</td>\n",
       "      <td>987</td>\n",
       "      <td>0.719512</td>\n",
       "      <td>0.363441</td>\n",
       "      <td>0.477943</td>\n",
       "    </tr>\n",
       "    <tr>\n",
       "      <th>1201</th>\n",
       "      <td>2005</td>\n",
       "      <td>MIA</td>\n",
       "      <td>NC</td>\n",
       "      <td>Miami Heat</td>\n",
       "      <td>858</td>\n",
       "      <td>0.634146</td>\n",
       "      <td>0.344899</td>\n",
       "      <td>0.517298</td>\n",
       "    </tr>\n",
       "    <tr>\n",
       "      <th>1242</th>\n",
       "      <td>2006</td>\n",
       "      <td>SAS</td>\n",
       "      <td>NC</td>\n",
       "      <td>San Antonio Spurs</td>\n",
       "      <td>761</td>\n",
       "      <td>0.707317</td>\n",
       "      <td>0.381166</td>\n",
       "      <td>0.504300</td>\n",
       "    </tr>\n",
       "    <tr>\n",
       "      <th>1248</th>\n",
       "      <td>2007</td>\n",
       "      <td>BOS</td>\n",
       "      <td>NC</td>\n",
       "      <td>Boston Celtics</td>\n",
       "      <td>830</td>\n",
       "      <td>0.804878</td>\n",
       "      <td>0.381074</td>\n",
       "      <td>0.506141</td>\n",
       "    </tr>\n",
       "    <tr>\n",
       "      <th>1289</th>\n",
       "      <td>2008</td>\n",
       "      <td>LAL</td>\n",
       "      <td>NC</td>\n",
       "      <td>Los Angeles Lakers</td>\n",
       "      <td>1015</td>\n",
       "      <td>0.792683</td>\n",
       "      <td>0.360818</td>\n",
       "      <td>0.505032</td>\n",
       "    </tr>\n",
       "  </tbody>\n",
       "</table>\n",
       "</div>"
      ],
      "text/plain": [
       "      year tmID playoff                name  o_oreb   winrate     Acc3p  \\\n",
       "1006  1998  SAS      NC   San Antonio Spurs     614  0.740000  0.330134   \n",
       "1024  1999  LAL      NC  Los Angeles Lakers    1117  0.817073  0.328558   \n",
       "1053  2000  LAL      NC  Los Angeles Lakers    1085  0.682927  0.344314   \n",
       "1082  2001  LAL      NC  Los Angeles Lakers    1022  0.707317  0.354413   \n",
       "1123  2002  SAS      NC   San Antonio Spurs     939  0.731707  0.353543   \n",
       "1134  2003  DET      NC     Detroit Pistons    1014  0.658537  0.344008   \n",
       "1182  2004  SAS      NC   San Antonio Spurs     987  0.719512  0.363441   \n",
       "1201  2005  MIA      NC          Miami Heat     858  0.634146  0.344899   \n",
       "1242  2006  SAS      NC   San Antonio Spurs     761  0.707317  0.381166   \n",
       "1248  2007  BOS      NC      Boston Celtics     830  0.804878  0.381074   \n",
       "1289  2008  LAL      NC  Los Angeles Lakers    1015  0.792683  0.360818   \n",
       "\n",
       "         Acc2p  \n",
       "1006  0.476451  \n",
       "1024  0.482467  \n",
       "1053  0.493530  \n",
       "1082  0.488798  \n",
       "1123  0.489159  \n",
       "1134  0.451553  \n",
       "1182  0.477943  \n",
       "1201  0.517298  \n",
       "1242  0.504300  \n",
       "1248  0.506141  \n",
       "1289  0.505032  "
      ]
     },
     "execution_count": 8,
     "metadata": {},
     "output_type": "execute_result"
    }
   ],
   "source": [
    "df4=df2[(df2.playoff==\"NC\")]\n",
    "df4"
   ]
  },
  {
   "cell_type": "markdown",
   "metadata": {},
   "source": [
    "Above is the final champion from 1998 to 2008 and their related rebounds, three-point accuracy and two-point accuracy. Compared with average rebounds of 931, half of the champions have fewer rebounds and even Spurs in 1998 had only 614 rebounds which was nearly 300 below the average. Compared with the average 3-point accuracy of 35.2%, also half of champions had done a worse job. However, 10 out of 11 champitions had significantly higher 2-point accuracy than the average 47.1%. From the data, I can conclude that the best team of the year might not do well in rebounds or 3 points, but they were more likely to have a higher 2 point accuracy. At this time, I feel like 2-point-shot might be a more important factor in a basketball game."
   ]
  },
  {
   "cell_type": "code",
   "execution_count": 9,
   "metadata": {},
   "outputs": [
    {
     "data": {
      "text/plain": [
       "0.5426459719142652"
      ]
     },
     "execution_count": 9,
     "metadata": {},
     "output_type": "execute_result"
    }
   ],
   "source": [
    "df2[df2.Acc3p>df2.Acc3p.mean()].winrate.mean()"
   ]
  },
  {
   "cell_type": "markdown",
   "metadata": {},
   "source": [
    "This is the average win rate of a team which had higher 3 point accuracy than the average. This means that if a team is doing well in 3 point than average, this team may have a 54% chance to win(4% increase than normal win rate of 50%)."
   ]
  },
  {
   "cell_type": "code",
   "execution_count": 10,
   "metadata": {},
   "outputs": [
    {
     "data": {
      "text/plain": [
       "0.568625"
      ]
     },
     "execution_count": 10,
     "metadata": {},
     "output_type": "execute_result"
    }
   ],
   "source": [
    "df2[df2.Acc2p>df2.Acc2p.mean()].winrate.mean()"
   ]
  },
  {
   "cell_type": "markdown",
   "metadata": {},
   "source": [
    "The average win rate of a team which had higher 2 point accuracy than the average, is 56.8. This means that if a team is doing well in 2 point than the average team, then this team may have a 56.8% chance to win(6.8% increase than normal win rate of 50%)."
   ]
  },
  {
   "cell_type": "code",
   "execution_count": 11,
   "metadata": {},
   "outputs": [
    {
     "data": {
      "text/plain": [
       "0.4866134006167648"
      ]
     },
     "execution_count": 11,
     "metadata": {},
     "output_type": "execute_result"
    }
   ],
   "source": [
    "df2[df2.o_oreb>df2.o_oreb.mean()].winrate.mean()"
   ]
  },
  {
   "cell_type": "markdown",
   "metadata": {},
   "source": [
    "The first two results are pretty intuitive: Higher 2 or 3 point accuracy, higher chance to win. However, I am confused by this result. More rebounds but lower chance to win? I will later do a regression to check this. "
   ]
  },
  {
   "cell_type": "markdown",
   "metadata": {},
   "source": [
    "# Group the whole data by teams and Sorting"
   ]
  },
  {
   "cell_type": "code",
   "execution_count": 12,
   "metadata": {
    "scrolled": true
   },
   "outputs": [
    {
     "name": "stderr",
     "output_type": "stream",
     "text": [
      "D:\\Ana\\lib\\site-packages\\ipykernel_launcher.py:2: FutureWarning: by argument to sort_index is deprecated, pls use .sort_values(by=...)\n",
      "  \n"
     ]
    },
    {
     "data": {
      "text/html": [
       "<div>\n",
       "<style>\n",
       "    .dataframe thead tr:only-child th {\n",
       "        text-align: right;\n",
       "    }\n",
       "\n",
       "    .dataframe thead th {\n",
       "        text-align: left;\n",
       "    }\n",
       "\n",
       "    .dataframe tbody tr th {\n",
       "        vertical-align: top;\n",
       "    }\n",
       "</style>\n",
       "<table border=\"1\" class=\"dataframe\">\n",
       "  <thead>\n",
       "    <tr style=\"text-align: right;\">\n",
       "      <th></th>\n",
       "      <th>Acc3p</th>\n",
       "    </tr>\n",
       "    <tr>\n",
       "      <th>name</th>\n",
       "      <th></th>\n",
       "    </tr>\n",
       "  </thead>\n",
       "  <tbody>\n",
       "    <tr>\n",
       "      <th>San Antonio Spurs</th>\n",
       "      <td>0.369841</td>\n",
       "    </tr>\n",
       "    <tr>\n",
       "      <th>Dallas Mavericks</th>\n",
       "      <td>0.367219</td>\n",
       "    </tr>\n",
       "    <tr>\n",
       "      <th>Phoenix Suns</th>\n",
       "      <td>0.366983</td>\n",
       "    </tr>\n",
       "    <tr>\n",
       "      <th>Milwaukee Bucks</th>\n",
       "      <td>0.365789</td>\n",
       "    </tr>\n",
       "    <tr>\n",
       "      <th>Toronto Raptors</th>\n",
       "      <td>0.364372</td>\n",
       "    </tr>\n",
       "  </tbody>\n",
       "</table>\n",
       "</div>"
      ],
      "text/plain": [
       "                      Acc3p\n",
       "name                       \n",
       "San Antonio Spurs  0.369841\n",
       "Dallas Mavericks   0.367219\n",
       "Phoenix Suns       0.366983\n",
       "Milwaukee Bucks    0.365789\n",
       "Toronto Raptors    0.364372"
      ]
     },
     "execution_count": 12,
     "metadata": {},
     "output_type": "execute_result"
    }
   ],
   "source": [
    "df3=pd.DataFrame(df2.groupby('name').Acc3p.mean())\n",
    "df3.sort_index(by='Acc3p',ascending=False).head()"
   ]
  },
  {
   "cell_type": "code",
   "execution_count": 13,
   "metadata": {},
   "outputs": [
    {
     "name": "stderr",
     "output_type": "stream",
     "text": [
      "D:\\Ana\\lib\\site-packages\\ipykernel_launcher.py:2: FutureWarning: by argument to sort_index is deprecated, pls use .sort_values(by=...)\n",
      "  \n"
     ]
    },
    {
     "data": {
      "text/html": [
       "<div>\n",
       "<style>\n",
       "    .dataframe thead tr:only-child th {\n",
       "        text-align: right;\n",
       "    }\n",
       "\n",
       "    .dataframe thead th {\n",
       "        text-align: left;\n",
       "    }\n",
       "\n",
       "    .dataframe tbody tr th {\n",
       "        vertical-align: top;\n",
       "    }\n",
       "</style>\n",
       "<table border=\"1\" class=\"dataframe\">\n",
       "  <thead>\n",
       "    <tr style=\"text-align: right;\">\n",
       "      <th></th>\n",
       "      <th>Acc2p</th>\n",
       "    </tr>\n",
       "    <tr>\n",
       "      <th>name</th>\n",
       "      <th></th>\n",
       "    </tr>\n",
       "  </thead>\n",
       "  <tbody>\n",
       "    <tr>\n",
       "      <th>Phoenix Suns</th>\n",
       "      <td>0.493513</td>\n",
       "    </tr>\n",
       "    <tr>\n",
       "      <th>Los Angeles Lakers</th>\n",
       "      <td>0.489462</td>\n",
       "    </tr>\n",
       "    <tr>\n",
       "      <th>San Antonio Spurs</th>\n",
       "      <td>0.482754</td>\n",
       "    </tr>\n",
       "    <tr>\n",
       "      <th>Sacramento Kings</th>\n",
       "      <td>0.481436</td>\n",
       "    </tr>\n",
       "    <tr>\n",
       "      <th>Dallas Mavericks</th>\n",
       "      <td>0.481071</td>\n",
       "    </tr>\n",
       "  </tbody>\n",
       "</table>\n",
       "</div>"
      ],
      "text/plain": [
       "                       Acc2p\n",
       "name                        \n",
       "Phoenix Suns        0.493513\n",
       "Los Angeles Lakers  0.489462\n",
       "San Antonio Spurs   0.482754\n",
       "Sacramento Kings    0.481436\n",
       "Dallas Mavericks    0.481071"
      ]
     },
     "execution_count": 13,
     "metadata": {},
     "output_type": "execute_result"
    }
   ],
   "source": [
    "df4=pd.DataFrame(df2.groupby('name').Acc2p.mean())\n",
    "df4.sort_index(by='Acc2p',ascending=False).head()"
   ]
  },
  {
   "cell_type": "code",
   "execution_count": 14,
   "metadata": {},
   "outputs": [
    {
     "name": "stderr",
     "output_type": "stream",
     "text": [
      "D:\\Ana\\lib\\site-packages\\ipykernel_launcher.py:2: FutureWarning: by argument to sort_index is deprecated, pls use .sort_values(by=...)\n",
      "  \n"
     ]
    },
    {
     "data": {
      "text/html": [
       "<div>\n",
       "<style>\n",
       "    .dataframe thead tr:only-child th {\n",
       "        text-align: right;\n",
       "    }\n",
       "\n",
       "    .dataframe thead th {\n",
       "        text-align: left;\n",
       "    }\n",
       "\n",
       "    .dataframe tbody tr th {\n",
       "        vertical-align: top;\n",
       "    }\n",
       "</style>\n",
       "<table border=\"1\" class=\"dataframe\">\n",
       "  <thead>\n",
       "    <tr style=\"text-align: right;\">\n",
       "      <th></th>\n",
       "      <th>o_oreb</th>\n",
       "    </tr>\n",
       "    <tr>\n",
       "      <th>name</th>\n",
       "      <th></th>\n",
       "    </tr>\n",
       "  </thead>\n",
       "  <tbody>\n",
       "    <tr>\n",
       "      <th>Golden State Warriors</th>\n",
       "      <td>1097.181818</td>\n",
       "    </tr>\n",
       "    <tr>\n",
       "      <th>Oklahoma City Thunder</th>\n",
       "      <td>999.000000</td>\n",
       "    </tr>\n",
       "    <tr>\n",
       "      <th>Washington Wizards</th>\n",
       "      <td>990.090909</td>\n",
       "    </tr>\n",
       "    <tr>\n",
       "      <th>New Orleans Hornets</th>\n",
       "      <td>989.200000</td>\n",
       "    </tr>\n",
       "    <tr>\n",
       "      <th>Philadelphia 76ers</th>\n",
       "      <td>983.000000</td>\n",
       "    </tr>\n",
       "  </tbody>\n",
       "</table>\n",
       "</div>"
      ],
      "text/plain": [
       "                            o_oreb\n",
       "name                              \n",
       "Golden State Warriors  1097.181818\n",
       "Oklahoma City Thunder   999.000000\n",
       "Washington Wizards      990.090909\n",
       "New Orleans Hornets     989.200000\n",
       "Philadelphia 76ers      983.000000"
      ]
     },
     "execution_count": 14,
     "metadata": {},
     "output_type": "execute_result"
    }
   ],
   "source": [
    "df5=pd.DataFrame(df2.groupby('name').o_oreb.mean())\n",
    "df5.sort_index(by='o_oreb',ascending=False).head()"
   ]
  },
  {
   "cell_type": "code",
   "execution_count": 15,
   "metadata": {},
   "outputs": [
    {
     "name": "stderr",
     "output_type": "stream",
     "text": [
      "D:\\Ana\\lib\\site-packages\\ipykernel_launcher.py:2: FutureWarning: by argument to sort_index is deprecated, pls use .sort_values(by=...)\n",
      "  \n"
     ]
    },
    {
     "data": {
      "text/html": [
       "<div>\n",
       "<style>\n",
       "    .dataframe thead tr:only-child th {\n",
       "        text-align: right;\n",
       "    }\n",
       "\n",
       "    .dataframe thead th {\n",
       "        text-align: left;\n",
       "    }\n",
       "\n",
       "    .dataframe tbody tr th {\n",
       "        vertical-align: top;\n",
       "    }\n",
       "</style>\n",
       "<table border=\"1\" class=\"dataframe\">\n",
       "  <thead>\n",
       "    <tr style=\"text-align: right;\">\n",
       "      <th></th>\n",
       "      <th>winrate</th>\n",
       "    </tr>\n",
       "    <tr>\n",
       "      <th>name</th>\n",
       "      <th></th>\n",
       "    </tr>\n",
       "  </thead>\n",
       "  <tbody>\n",
       "    <tr>\n",
       "      <th>San Antonio Spurs</th>\n",
       "      <td>0.705854</td>\n",
       "    </tr>\n",
       "    <tr>\n",
       "      <th>Los Angeles Lakers</th>\n",
       "      <td>0.643947</td>\n",
       "    </tr>\n",
       "    <tr>\n",
       "      <th>Dallas Mavericks</th>\n",
       "      <td>0.642084</td>\n",
       "    </tr>\n",
       "    <tr>\n",
       "      <th>Detroit Pistons</th>\n",
       "      <td>0.603725</td>\n",
       "    </tr>\n",
       "    <tr>\n",
       "      <th>Phoenix Suns</th>\n",
       "      <td>0.593437</td>\n",
       "    </tr>\n",
       "  </tbody>\n",
       "</table>\n",
       "</div>"
      ],
      "text/plain": [
       "                     winrate\n",
       "name                        \n",
       "San Antonio Spurs   0.705854\n",
       "Los Angeles Lakers  0.643947\n",
       "Dallas Mavericks    0.642084\n",
       "Detroit Pistons     0.603725\n",
       "Phoenix Suns        0.593437"
      ]
     },
     "execution_count": 15,
     "metadata": {},
     "output_type": "execute_result"
    }
   ],
   "source": [
    "df6=pd.DataFrame(df2.groupby('name').winrate.mean())\n",
    "df6.sort_index(by='winrate',ascending=False).head()"
   ]
  },
  {
   "cell_type": "markdown",
   "metadata": {},
   "source": [
    "I have grouped all the data by teams and have sorted their related 3-point accuracy, 2-point accuracy, rebounds and winrate in a descending order. I have found that Spurs and Lakers are the two best teams during this 10 years: they have highest win rate and they both have 4 final champions.Interestingly, they are also on the leaderboard of 3 point accuracy and 2 point accuracy, which tells us that field goals accuracy does influence the win rate significantly. However, rebounds, are not as important as the other two factors."
   ]
  },
  {
   "cell_type": "markdown",
   "metadata": {},
   "source": [
    "# Regression\n",
    "We cannot avoid regression if we truly want to analyze data quantitatively. I will first do a single variable regression of 3-point accuracy on win rate. And a single variable regression of 2-point accuracy on win rate. Finally I will use matplotlib to visualize the regression."
   ]
  },
  {
   "cell_type": "markdown",
   "metadata": {},
   "source": [
    "# Single variable regression of 3-point/2-point accuracy on win rate:"
   ]
  },
  {
   "cell_type": "code",
   "execution_count": 16,
   "metadata": {},
   "outputs": [
    {
     "name": "stderr",
     "output_type": "stream",
     "text": [
      "D:\\Ana\\lib\\site-packages\\ipykernel_launcher.py:6: FutureWarning: reshape is deprecated and will raise in a subsequent release. Please use .values.reshape(...) instead\n",
      "  \n",
      "D:\\Ana\\lib\\site-packages\\ipykernel_launcher.py:7: FutureWarning: reshape is deprecated and will raise in a subsequent release. Please use .values.reshape(...) instead\n",
      "  import sys\n",
      "D:\\Ana\\lib\\site-packages\\ipykernel_launcher.py:8: FutureWarning: reshape is deprecated and will raise in a subsequent release. Please use .values.reshape(...) instead\n",
      "  \n",
      "D:\\Ana\\lib\\site-packages\\ipykernel_launcher.py:9: FutureWarning: reshape is deprecated and will raise in a subsequent release. Please use .values.reshape(...) instead\n",
      "  if __name__ == '__main__':\n"
     ]
    },
    {
     "data": {
      "image/png": "[encoded data removed]",
      "text/plain": [
       "<matplotlib.figure.Figure at 0xdde670ba8>"
      ]
     },
     "metadata": {},
     "output_type": "display_data"
    }
   ],
   "source": [
    "Y = df2['winrate']\n",
    "X = df2['Acc3p']\n",
    "Z= df2['Acc2p']\n",
    "R=df2['o_oreb']\n",
    "\n",
    "X=X.reshape(len(X),1)\n",
    "Y=Y.reshape(len(Y),1)\n",
    "Z=Z.reshape(len(Z),1)\n",
    "R=R.reshape(len(R),1)\n",
    " \n",
    "# Split the data into training/testing sets\n",
    "X_train = X[:-250]\n",
    "X_test = X[-250:]\n",
    " \n",
    "# Split the targets into training/testing sets\n",
    "Y_train = Y[:-250]\n",
    "Y_test = Y[-250:]\n",
    "\n",
    "Z_train = Z[:-250]\n",
    "Z_test = Z[-250:]\n",
    "\n",
    "R_train = R[:-250]\n",
    " \n",
    "# Plot outputs\n",
    "plt.scatter(X_test, Y_test,  color='black')\n",
    "plt.scatter(Z_test, Y_test,  color='blue')\n",
    "plt.title('Scatter Plot')\n",
    "plt.xlabel('3 Points accuracy on black, 2 Points accuracy on blue')\n",
    "plt.ylabel('Winrate')\n",
    "\n",
    " \n",
    "plt.show()"
   ]
  },
  {
   "cell_type": "markdown",
   "metadata": {},
   "source": [
    "# Visualization"
   ]
  },
  {
   "cell_type": "code",
   "execution_count": 17,
   "metadata": {},
   "outputs": [
    {
     "data": {
      "image/png": "[encoded data removed]",
      "text/plain": [
       "<matplotlib.figure.Figure at 0xdde68d5f8>"
      ]
     },
     "metadata": {},
     "output_type": "display_data"
    }
   ],
   "source": [
    "# Create linear regression object\n",
    "regr = linear_model.LinearRegression()\n",
    "regr1 = linear_model.LinearRegression()\n",
    "regr2 = linear_model.LinearRegression()\n",
    "# Train the model using the training sets\n",
    "regr.fit(X_train, Y_train)\n",
    "regr1.fit(Z_train, Y_train)\n",
    "regr2.fit(R_train,Y_train)\n",
    "\n",
    "# Plot outputs\n",
    "plt.plot(X_test, regr.predict(X_test), color='red',linewidth=3)\n",
    "plt.plot(Z_test, regr1.predict(Z_test), color='purple',linewidth=3)\n",
    "\n",
    "plt.scatter(X_test, Y_test,  color='black')\n",
    "plt.scatter(Z_test, Y_test,  color='blue')\n",
    "plt.title('Regression Line')\n",
    "plt.xlabel('3 Points accuracy on black, 2 Points accuracy on blue')\n",
    "plt.ylabel('Winrate')\n",
    "\n",
    "plt.show()"
   ]
  },
  {
   "cell_type": "markdown",
   "metadata": {},
   "source": [
    "In the plot, black dots and red regression line are for 3-point; blue dots and purple regression line are for 2-point. Both slopes of the two regression lines are positive, which means field goals accuracy is positively related one team's win rate, just as I expected. The purple line is steeper than the red line, which means 2-point-accuracy might have a larger impact on win rate than 3-point does."
   ]
  },
  {
   "cell_type": "code",
   "execution_count": 18,
   "metadata": {},
   "outputs": [
    {
     "name": "stdout",
     "output_type": "stream",
     "text": [
      "[[ 2.1721885]]\n"
     ]
    }
   ],
   "source": [
    "print(regr.coef_)"
   ]
  },
  {
   "cell_type": "code",
   "execution_count": 19,
   "metadata": {
    "scrolled": true
   },
   "outputs": [
    {
     "name": "stdout",
     "output_type": "stream",
     "text": [
      "[[ 5.49958422]]\n"
     ]
    }
   ],
   "source": [
    "print(regr1.coef_)"
   ]
  },
  {
   "cell_type": "markdown",
   "metadata": {},
   "source": [
    "The coefficient of regression of 3-point-accuracy on win rate is 2.172. The coefficient of regression of 2-point-accuracy on win rate is 5.499."
   ]
  },
  {
   "cell_type": "code",
   "execution_count": 20,
   "metadata": {},
   "outputs": [
    {
     "name": "stdout",
     "output_type": "stream",
     "text": [
      "[[-0.00013373]]\n"
     ]
    }
   ],
   "source": [
    "print(regr2.coef_)"
   ]
  },
  {
   "cell_type": "markdown",
   "metadata": {},
   "source": [
    "The coefficient of regression of number of rebounds on win rate is nearly 0, which means rebounds are only sightly related to the win rate."
   ]
  },
  {
   "cell_type": "markdown",
   "metadata": {},
   "source": [
    "# Conclusion"
   ]
  },
  {
   "cell_type": "markdown",
   "metadata": {},
   "source": [
    "To sum up, the accuracy of 2-point and 3-point is indeed important factors in a basketball game because data have shown that they are strongly correlated with NBA team's winrate between 1998 to 2008. Also, my friend's claim might be correct: 2 point-shots are the most essential part in a game. Firstly, 2-point-shots make up 80% of the total field goals. Secondly, 2-point-shots have a stronger correlation with win rate than 3-point-shots have based on the regression analysis."
   ]
  }
 ],
 "metadata": {
  "kernelspec": {
   "display_name": "Python 3",
   "language": "python",
   "name": "python3"
  },
  "language_info": {
   "codemirror_mode": {
    "name": "ipython",
    "version": 3.0
   },
   "file_extension": ".py",
   "mimetype": "text/x-python",
   "name": "python",
   "nbconvert_exporter": "python",
   "pygments_lexer": "ipython3",
   "version": "3.6.1"
  }
 },
 "nbformat": 4,
 "nbformat_minor": 0
}